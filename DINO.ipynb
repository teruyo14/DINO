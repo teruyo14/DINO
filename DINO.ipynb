{
  "cells": [
    {
      "cell_type": "markdown",
      "metadata": {
        "id": "view-in-github",
        "colab_type": "text"
      },
      "source": [
        "<a href=\"https://colab.research.google.com/github/teruyo14/DINO/blob/main/DINO.ipynb\" target=\"_parent\"><img src=\"https://colab.research.google.com/assets/colab-badge.svg\" alt=\"Open In Colab\"/></a>"
      ]
    },
    {
      "cell_type": "markdown",
      "id": "fda64ab6",
      "metadata": {
        "id": "fda64ab6"
      },
      "source": [
        "# DINO"
      ]
    },
    {
      "cell_type": "code",
      "execution_count": null,
      "id": "d0794f4e",
      "metadata": {
        "id": "d0794f4e",
        "outputId": "4cdcd0b4-5678-4f62-8fa0-1c90e51456db",
        "colab": {
          "base_uri": "https://localhost:8080/"
        }
      },
      "outputs": [
        {
          "output_type": "stream",
          "name": "stdout",
          "text": [
            "\u001b[2K     \u001b[90m━━━━━━━━━━━━━━━━━━━━━━━━━━━━━━━━━━━━━━━━\u001b[0m \u001b[32m41.6/41.6 kB\u001b[0m \u001b[31m1.2 MB/s\u001b[0m eta \u001b[36m0:00:00\u001b[0m\n",
            "\u001b[2K     \u001b[90m━━━━━━━━━━━━━━━━━━━━━━━━━━━━━━━━━━━━━━━━\u001b[0m \u001b[32m705.7/705.7 kB\u001b[0m \u001b[31m12.1 MB/s\u001b[0m eta \u001b[36m0:00:00\u001b[0m\n",
            "\u001b[2K     \u001b[90m━━━━━━━━━━━━━━━━━━━━━━━━━━━━━━━━━━━━━━━━\u001b[0m \u001b[32m2.2/2.2 MB\u001b[0m \u001b[31m57.2 MB/s\u001b[0m eta \u001b[36m0:00:00\u001b[0m\n",
            "\u001b[?25h"
          ]
        }
      ],
      "source": [
        "! [ -e /content ] && pip install -Uqq self-supervised"
      ]
    },
    {
      "cell_type": "code",
      "execution_count": null,
      "id": "5b7be716",
      "metadata": {
        "id": "5b7be716",
        "outputId": "6fa842e3-5095-408c-954f-0b0c017b75b0",
        "colab": {
          "base_uri": "https://localhost:8080/"
        }
      },
      "outputs": [
        {
          "output_type": "stream",
          "name": "stderr",
          "text": [
            "/usr/local/lib/python3.10/dist-packages/fastai/torch_core.py:263: UserWarning: 'has_mps' is deprecated, please use 'torch.backends.mps.is_built()'\n",
            "  return getattr(torch, 'has_mps', False)\n"
          ]
        }
      ],
      "source": [
        "from fastai.vision.all import *\n",
        "from self_supervised.augmentations import *\n",
        "from self_supervised.layers import *\n",
        "from self_supervised.models.vision_transformer import *"
      ]
    },
    {
      "cell_type": "code",
      "execution_count": null,
      "id": "fb349f80",
      "metadata": {
        "id": "fb349f80"
      },
      "outputs": [],
      "source": [
        "class DINOHead(nn.Module):\n",
        "    def __init__(self, in_dim, out_dim, use_bn=False, norm_last_layer=True, nlayers=3, hidden_dim=2048, bottleneck_dim=256):\n",
        "        super().__init__()\n",
        "        nlayers = max(nlayers, 1)\n",
        "        if nlayers == 1:\n",
        "            self.mlp = nn.Linear(in_dim, bottleneck_dim)\n",
        "        else:\n",
        "            layers = [nn.Linear(in_dim, hidden_dim)]\n",
        "            if use_bn:\n",
        "                layers.append(nn.BatchNorm1d(hidden_dim))\n",
        "            layers.append(nn.GELU())\n",
        "            for _ in range(nlayers - 2):\n",
        "                layers.append(nn.Linear(hidden_dim, hidden_dim))\n",
        "                if use_bn:\n",
        "                    layers.append(nn.BatchNorm1d(hidden_dim))\n",
        "                layers.append(nn.GELU())\n",
        "            layers.append(nn.Linear(hidden_dim, bottleneck_dim))\n",
        "            self.mlp = nn.Sequential(*layers)\n",
        "\n",
        "        self.apply(self._init_weights)\n",
        "\n",
        "        self.last_layer = nn.utils.weight_norm(nn.Linear(bottleneck_dim, out_dim, bias=False))\n",
        "        self.last_layer.weight_g.data.fill_(1)\n",
        "        if norm_last_layer:\n",
        "            self.last_layer.weight_g.requires_grad = False\n",
        "\n",
        "    def _init_weights(self, m):\n",
        "        if isinstance(m, nn.Linear):\n",
        "            trunc_normal_(m.weight, std=.02)\n",
        "            if isinstance(m, nn.Linear) and m.bias is not None:\n",
        "                nn.init.constant_(m.bias, 0)\n",
        "\n",
        "    def forward(self, x):\n",
        "        x = self.mlp(x)\n",
        "        x = nn.functional.normalize(x, dim=-1, p=2)\n",
        "        x = self.last_layer(x)\n",
        "        return x"
      ]
    },
    {
      "cell_type": "code",
      "execution_count": null,
      "id": "acd1b061",
      "metadata": {
        "id": "acd1b061"
      },
      "outputs": [],
      "source": [
        "@delegates(get_multi_aug_pipelines, but=['n', 'size', 'resize_scale'])\n",
        "def get_dino_aug_pipelines(num_crops=(2,4), crop_sizes=(224,96), min_scales=(0.4,0.05), max_scales=(1.,0.4), **kwargs):\n",
        "    aug_pipelines = []\n",
        "    for nc, size, mins, maxs in zip(num_crops, crop_sizes, min_scales, max_scales):\n",
        "        aug_pipelines += get_multi_aug_pipelines(n=nc, size=size, resize_scale=(mins,maxs), **kwargs)\n",
        "    return aug_pipelines"
      ]
    },
    {
      "cell_type": "code",
      "execution_count": null,
      "id": "e280017f",
      "metadata": {
        "id": "e280017f"
      },
      "outputs": [],
      "source": [
        "aug_pipelines = get_dino_aug_pipelines()"
      ]
    },
    {
      "cell_type": "code",
      "execution_count": null,
      "id": "838e6546",
      "metadata": {
        "id": "838e6546"
      },
      "outputs": [],
      "source": [
        "class DINOModel(Module):\n",
        "    def __init__(self, student, teacher):\n",
        "        \"A module for loading and saving all training params together\"\n",
        "        self.student,self.teacher = student,teacher\n",
        "        self.teacher.load_state_dict(student.state_dict())\n",
        "        for p in self.teacher.parameters(): p.requires_grad = False\n",
        "        self.register_buffer('C',  torch.zeros(1,num_features_model(teacher)))\n",
        "    def forward(self,x): return self.student(x)"
      ]
    },
    {
      "cell_type": "code",
      "execution_count": null,
      "id": "d011ad8e",
      "metadata": {
        "id": "d011ad8e"
      },
      "outputs": [],
      "source": [
        "bs = 4\n",
        "x_large = [torch.randn(4,3,224,224)]*2\n",
        "x_small = [torch.randn(4,3,96,96)]*4"
      ]
    },
    {
      "cell_type": "code",
      "execution_count": null,
      "id": "0a6587f3",
      "metadata": {
        "id": "0a6587f3",
        "outputId": "0e3532df-f7e5-4f71-9480-83f7a793b2db",
        "colab": {
          "base_uri": "https://localhost:8080/"
        }
      },
      "outputs": [
        {
          "output_type": "stream",
          "name": "stderr",
          "text": [
            "/usr/local/lib/python3.10/dist-packages/torch/nn/utils/weight_norm.py:30: UserWarning: torch.nn.utils.weight_norm is deprecated in favor of torch.nn.utils.parametrizations.weight_norm.\n",
            "  warnings.warn(\"torch.nn.utils.weight_norm is deprecated in favor of torch.nn.utils.parametrizations.weight_norm.\")\n"
          ]
        }
      ],
      "source": [
        "deits16 = deit_small(patch_size=16, drop_path_rate=0.1)\n",
        "deits16 = MultiCropWrapper(deits16)\n",
        "dino_head = DINOHead(deits16.encoder.embed_dim, 2**16, norm_last_layer=True)\n",
        "student_model = nn.Sequential(deits16,dino_head)\n",
        "\n",
        "deits16 = deit_small(patch_size=16)\n",
        "deits16 = MultiCropWrapper(deits16)\n",
        "dino_head = DINOHead(deits16.encoder.embed_dim, 2**16, norm_last_layer=True)\n",
        "teacher_model = nn.Sequential(deits16,dino_head)\n",
        "\n",
        "dino_model = DINOModel(student_model, teacher_model)"
      ]
    },
    {
      "cell_type": "code",
      "execution_count": null,
      "id": "6afe5b36",
      "metadata": {
        "id": "6afe5b36",
        "outputId": "0b9c8931-3ad7-4822-91e8-448ae661ffcc",
        "colab": {
          "base_uri": "https://localhost:8080/"
        }
      },
      "outputs": [
        {
          "output_type": "execute_result",
          "data": {
            "text/plain": [
              "DINOHead(\n",
              "  (mlp): Sequential(\n",
              "    (0): Linear(in_features=384, out_features=2048, bias=True)\n",
              "    (1): GELU(approximate='none')\n",
              "    (2): Linear(in_features=2048, out_features=2048, bias=True)\n",
              "    (3): GELU(approximate='none')\n",
              "    (4): Linear(in_features=2048, out_features=256, bias=True)\n",
              "  )\n",
              "  (last_layer): Linear(in_features=256, out_features=65536, bias=False)\n",
              ")"
            ]
          },
          "metadata": {},
          "execution_count": 11
        }
      ],
      "source": [
        "dino_model.student[1]"
      ]
    },
    {
      "cell_type": "code",
      "execution_count": null,
      "id": "23fbe867",
      "metadata": {
        "id": "23fbe867"
      },
      "outputs": [],
      "source": [
        "class DINO(Callback):\n",
        "    order,run_valid = 9,True\n",
        "    def __init__(self, aug_pipelines, large_crop_ids=[0,1],\n",
        "                         cmom=0.9,\n",
        "                         tmom_start=0.996, tmom_end=1., tmom_sched=SchedCos,\n",
        "                         tpt_start=0.04, tpt_end=0.04, tpt_warmup_pct=0., tpt_sched=SchedLin,\n",
        "                         tps=0.1,\n",
        "                         freeze_last_layer=1,\n",
        "                         print_augs=False):\n",
        "\n",
        "        store_attr('large_crop_ids,cmom,freeze_last_layer,tps')\n",
        "        self.augs = aug_pipelines\n",
        "        self.tpt_scheduler  = combine_scheds([tpt_warmup_pct,1-tpt_warmup_pct],\n",
        "                                             [tpt_sched(tpt_start,tpt_end),SchedNo(tpt_end,tpt_end)])\n",
        "        self.tmom_scheduler = tmom_sched(tmom_start, tmom_end)\n",
        "        if print_augs:\n",
        "            for aug in self.augs: print(aug)\n",
        "\n",
        "\n",
        "    def before_fit(self):\n",
        "        \"Create teacher model as a copy of student\"\n",
        "        self.learn.loss_func = self.lf\n",
        "        self.tpt  = self.tpt_scheduler(0.)\n",
        "        self.tmom = self.tmom_scheduler(0.)\n",
        "        self.model.teacher.eval()\n",
        "\n",
        "        for n,p in self.learn.model.student[1].last_layer.named_parameters():\n",
        "            if n == 'weight_v' : p.requires_grad = False\n",
        "\n",
        "\n",
        "    def before_batch(self):\n",
        "        \"Augment multi crop views\"\n",
        "        self.bs = self.x.size(0)\n",
        "        self.learn.xb = ([aug(self.x) for aug in self.augs],)\n",
        "        x_large = [self.learn.xb[0][i] for i in self.large_crop_ids]\n",
        "\n",
        "        with torch.no_grad():\n",
        "            targs = self.model.teacher(x_large)\n",
        "            self.learn.yb = (targs,)\n",
        "            self.cb       = targs.mean(0, keepdim=True)\n",
        "\n",
        "\n",
        "    def _momentum_update_teacher(self):\n",
        "        for param_s, param_t in zip(self.learn.model.student.parameters(), self.model.teacher.parameters()):\n",
        "            param_t.data = param_t.data * self.tmom + param_s.data * (1. - self.tmom)\n",
        "\n",
        "\n",
        "    def _momentum_update_center(self):\n",
        "        self.model.C = self.model.C*self.cmom + self.cb*(1-self.cmom)\n",
        "\n",
        "\n",
        "    def after_step(self):\n",
        "        \"Center and teacher updates\"\n",
        "        self._momentum_update_teacher(); self._momentum_update_center()\n",
        "\n",
        "\n",
        "    def after_epoch(self):\n",
        "        \"Update tpt at the end of each epoch\"\n",
        "        self.tpt  = self.tpt_scheduler(self.pct_train)\n",
        "        self.tmom = self.tmom_scheduler(self.pct_train)\n",
        "\n",
        "        if self.epoch == self.freeze_last_layer:\n",
        "            print(\"Setting last layer to trainable\")\n",
        "            for n,p in self.learn.model.student[1].last_layer.named_parameters():\n",
        "                if n == 'weight_v' : p.requires_grad = True\n",
        "\n",
        "\n",
        "    def lf(self, pred, *yb):\n",
        "        \"Multi crop cross entropy loss: -qlog(p)\"\n",
        "        yb = yb[0]\n",
        "        pred = F.log_softmax(pred / self.tps, dim=-1)\n",
        "        yb   = F.softmax((yb - self.model.C) / self.tpt, dim=-1)\n",
        "\n",
        "        n_targs, n_preds = yb.size(0)//self.bs, pred.size(0)//self.bs\n",
        "        yb, pred = yb.chunk(n_targs), pred.chunk(n_preds)\n",
        "\n",
        "        loss, npairs = 0, n_targs*(n_preds-1)\n",
        "        for ti in range(n_targs):\n",
        "            for pi in range(n_preds):\n",
        "                if ti != pi:\n",
        "                    loss += (-yb[ti]*pred[pi]).sum(-1).mean() / npairs\n",
        "        return loss\n",
        "\n",
        "\n",
        "\n",
        "    @torch.no_grad()\n",
        "    def show(self, n=1):\n",
        "        xbs = self.learn.xb[0]\n",
        "        idxs = np.random.choice(range(self.bs), n, False)\n",
        "        images = [aug.decode(xb.to('cpu').clone()).clamp(0, 1)[i]\n",
        "                  for i in idxs\n",
        "                  for xb, aug in zip(xbs, self.augs)]\n",
        "        return show_batch(images[0], None, images, max_n=len(images), nrows=n)"
      ]
    },
    {
      "cell_type": "code",
      "execution_count": null,
      "id": "15999789",
      "metadata": {
        "id": "15999789",
        "outputId": "e796f6e1-4268-4e5b-d7c0-409401ff5197",
        "colab": {
          "base_uri": "https://localhost:8080/",
          "height": 422
        }
      },
      "outputs": [
        {
          "output_type": "display_data",
          "data": {
            "text/plain": [
              "<Figure size 1500x500 with 2 Axes>"
            ],
            "image/png": "[encoded data removed]"
          },
          "metadata": {}
        }
      ],
      "source": [
        "fig,ax = plt.subplots(1,2,figsize=(15,5))\n",
        "lr_sched = combine_scheds([0.1,0.9], [SchedLin(0.,1e-3), SchedCos(1e-3,1e-6)])\n",
        "ax[0].plot([lr_sched(i) for i in np.linspace(0,1,100)]);ax[0].set_title('lr')\n",
        "wd_sched = SchedCos(0.04,0.4)\n",
        "ax[1].plot([wd_sched(i) for i in np.linspace(0,1,100)]);ax[1].set_title('wd');"
      ]
    }
  ],
  "metadata": {
    "kernelspec": {
      "display_name": "Python 3",
      "language": "python",
      "name": "python3"
    },
    "colab": {
      "provenance": [],
      "include_colab_link": true
    }
  },
  "nbformat": 4,
  "nbformat_minor": 5
}